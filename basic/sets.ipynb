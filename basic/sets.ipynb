{
 "cells": [
  {
   "cell_type": "code",
   "execution_count": 5,
   "id": "58fadff0",
   "metadata": {},
   "outputs": [
    {
     "data": {
      "text/plain": [
       "{1, 2, 3, 5}"
      ]
     },
     "execution_count": 5,
     "metadata": {},
     "output_type": "execute_result"
    }
   ],
   "source": [
    "x = set([1,2,3,1,3,5])\n",
    "x"
   ]
  },
  {
   "cell_type": "markdown",
   "id": "ff15c9cd",
   "metadata": {},
   "source": [
    "#### Basic Operations"
   ]
  },
  {
   "cell_type": "code",
   "execution_count": null,
   "id": "e0a09b4f",
   "metadata": {},
   "outputs": [
    {
     "name": "stdout",
     "output_type": "stream",
     "text": [
      "{1, 2, 3, 5, 6}\n",
      "{1, 2, 3, 6}\n",
      "True\n",
      "False\n"
     ]
    }
   ],
   "source": [
    "x.add(6)\n",
    "print(x)\n",
    "x.remove(5)\n",
    "print(x)\n",
    "print(1 in x)\n",
    "print(4 in x)"
   ]
  },
  {
   "cell_type": "markdown",
   "id": "d3f88f48",
   "metadata": {},
   "source": [
    "#### Unions, Intersection and Simetric difference"
   ]
  },
  {
   "cell_type": "code",
   "execution_count": null,
   "id": "5771b1cb",
   "metadata": {},
   "outputs": [
    {
     "name": "stdout",
     "output_type": "stream",
     "text": [
      "{1, 2, 3, 6, 7, 8, 9}\n",
      "{1}\n",
      "{2, 3, 6, 7, 8, 9}\n"
     ]
    }
   ],
   "source": [
    "y = set([1,7,8,9])\n",
    "print(x | y) # Union\n",
    "print(x & y) # Intersection\n",
    "print(x ^ y) # Simetric Difference"
   ]
  },
  {
   "cell_type": "markdown",
   "id": "d805cc24",
   "metadata": {},
   "source": [
    "#### Frozen sets => Immutble sets"
   ]
  },
  {
   "cell_type": "code",
   "execution_count": null,
   "id": "03a62df7",
   "metadata": {},
   "outputs": [
    {
     "name": "stdout",
     "output_type": "stream",
     "text": [
      "frozenset({1, 2, 3, 5})\n"
     ]
    },
    {
     "ename": "AttributeError",
     "evalue": "'frozenset' object has no attribute 'add'",
     "output_type": "error",
     "traceback": [
      "\u001b[31m---------------------------------------------------------------------------\u001b[39m",
      "\u001b[31mAttributeError\u001b[39m                            Traceback (most recent call last)",
      "\u001b[36mCell\u001b[39m\u001b[36m \u001b[39m\u001b[32mIn[9]\u001b[39m\u001b[32m, line 5\u001b[39m\n\u001b[32m      3\u001b[39m z = \u001b[38;5;28mfrozenset\u001b[39m(x)\n\u001b[32m      4\u001b[39m \u001b[38;5;28mprint\u001b[39m(z)\n\u001b[32m----> \u001b[39m\u001b[32m5\u001b[39m \u001b[43mz\u001b[49m\u001b[43m.\u001b[49m\u001b[43madd\u001b[49m(\u001b[32m6\u001b[39m)\n",
      "\u001b[31mAttributeError\u001b[39m: 'frozenset' object has no attribute 'add'"
     ]
    }
   ],
   "source": [
    "x = set([1,2,3,1,3,5])\n",
    "z = frozenset(x)\n",
    "print(z)\n",
    "z.add(6)"
   ]
  },
  {
   "cell_type": "code",
   "execution_count": null,
   "id": "334b2ab0",
   "metadata": {},
   "outputs": [],
   "source": []
  }
 ],
 "metadata": {
  "kernelspec": {
   "display_name": "python-study-notebooks",
   "language": "python",
   "name": "python3"
  },
  "language_info": {
   "codemirror_mode": {
    "name": "ipython",
    "version": 3
   },
   "file_extension": ".py",
   "mimetype": "text/x-python",
   "name": "python",
   "nbconvert_exporter": "python",
   "pygments_lexer": "ipython3",
   "version": "3.13.2"
  }
 },
 "nbformat": 4,
 "nbformat_minor": 5
}
