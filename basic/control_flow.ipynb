{
 "cells": [
  {
   "cell_type": "markdown",
   "id": "10363420",
   "metadata": {},
   "source": [
    "#### if-elif-else"
   ]
  },
  {
   "cell_type": "code",
   "execution_count": null,
   "id": "d98cfa9a",
   "metadata": {},
   "outputs": [
    {
     "name": "stdout",
     "output_type": "stream",
     "text": [
      "Low\n"
     ]
    }
   ],
   "source": [
    "guess = 4\n",
    "target = 7\n",
    "\n",
    "if guess < target:\n",
    "    print(\"Low\")\n",
    "elif guess == target:\n",
    "    print(\"Correct!\")\n",
    "else:\n",
    "    print(\"High\")"
   ]
  },
  {
   "cell_type": "code",
   "execution_count": null,
   "id": "dbf98358",
   "metadata": {},
   "outputs": [
    {
     "name": "stdout",
     "output_type": "stream",
     "text": [
      "0\n"
     ]
    }
   ],
   "source": [
    "x = 0\n",
    "if x < 5:\n",
    "    pass # pass statement serves as a placeholder where a statement is needed, but it performs no action\n",
    "else:\n",
    "    x = 5\n",
    "print(x)"
   ]
  },
  {
   "cell_type": "markdown",
   "id": "54b0f9dd",
   "metadata": {},
   "source": [
    "#### Structural pattern match with match"
   ]
  },
  {
   "cell_type": "code",
   "execution_count": 6,
   "id": "09c07b06",
   "metadata": {},
   "outputs": [
    {
     "name": "stdout",
     "output_type": "stream",
     "text": [
      "The integer 5\n"
     ]
    }
   ],
   "source": [
    "x = 5\n",
    "match x:\n",
    "    case \"A\":\n",
    "        print(\"A\")\n",
    "    case str():\n",
    "        print(\"some other string\")\n",
    "    case 0:\n",
    "        print(\"Zero\")\n",
    "    case 1 | 2 | 3:\n",
    "        print(f\"value {x} in range\")\n",
    "    case int():\n",
    "        print(f\"The integer {x}\")\n",
    "    case _:\n",
    "        print(\"Neither string nor int\")"
   ]
  },
  {
   "cell_type": "markdown",
   "id": "69cd6649",
   "metadata": {},
   "source": [
    "#### While loop"
   ]
  },
  {
   "cell_type": "code",
   "execution_count": null,
   "id": "9a00abdb",
   "metadata": {},
   "outputs": [
    {
     "name": "stdout",
     "output_type": "stream",
     "text": [
      "no break\n"
     ]
    }
   ],
   "source": [
    "response = \"\"\n",
    "while response != \"Q\":\n",
    "    response = input(\"Q to quit, B to break\")\n",
    "    if response == \"B\":\n",
    "        break # The break will force the while loop to end and skip the else block\n",
    "    else:\n",
    "        print(\"no break\") # The else block will only be executed if there is no break"
   ]
  },
  {
   "cell_type": "markdown",
   "id": "1b3fe842",
   "metadata": {},
   "source": [
    "#### For loop"
   ]
  },
  {
   "cell_type": "code",
   "execution_count": 8,
   "id": "1e3b5867",
   "metadata": {},
   "outputs": [
    {
     "name": "stdout",
     "output_type": "stream",
     "text": [
      "1.0\n",
      "0.5\n",
      "0.3333333333333333\n",
      "skipping 0.0\n",
      "no negative numbers!\n"
     ]
    }
   ],
   "source": [
    "x = [1.0, 2.0, 3.0, 0.0, -1,0]\n",
    "for n in x:\n",
    "    if n == 0.0:\n",
    "        print(\"skipping 0.0\")\n",
    "        continue\n",
    "    elif n < 0.0:\n",
    "        print(\"no negative numbers!\")\n",
    "        break\n",
    "    print(1/n)\n",
    "else:\n",
    "    print(\"Loop completed normally\")"
   ]
  },
  {
   "cell_type": "code",
   "execution_count": null,
   "id": "08a26963",
   "metadata": {},
   "outputs": [
    {
     "name": "stdout",
     "output_type": "stream",
     "text": [
      "Found a negative number at index  2\n",
      "Found a negative number at index  5\n"
     ]
    }
   ],
   "source": [
    "# Range function\n",
    "x = [1, 3, -7, 4, 9, -5, 4]\n",
    "for i in range(len(x)):\n",
    "    if x[i] < 0:\n",
    "        print(\"Found a negative number at index \",i)\n",
    "\n",
    "## range(n) returns a sequece 0,1,2...n-1. The range function does not build a Python list of integers; it just appears. Instead, it creates a range object that produces integers on demand. This is useful when you're using explicit loops to iterate over really large lists."
   ]
  },
  {
   "cell_type": "code",
   "execution_count": 15,
   "id": "47df18b0",
   "metadata": {},
   "outputs": [
    {
     "name": "stdout",
     "output_type": "stream",
     "text": [
      "[3, 4, 5, 6]\n",
      "[]\n",
      "[0, 2, 4, 6, 8]\n"
     ]
    }
   ],
   "source": [
    "print(list(range(3,7))) # list is used to return range values as a list\n",
    "print(list(range(5,3)))\n",
    "print(list(range(0,10,2)))"
   ]
  },
  {
   "cell_type": "code",
   "execution_count": 19,
   "id": "c6f166df",
   "metadata": {},
   "outputs": [
    {
     "name": "stdout",
     "output_type": "stream",
     "text": [
      "68\n",
      "68\n"
     ]
    }
   ],
   "source": [
    "## The for loop and tuple unpacking\n",
    "somelist = [(1,2), (3,7), (9,5)]\n",
    "result = 0\n",
    "for t in somelist:\n",
    "    result = result + (t[0]*t[1])\n",
    "print(result)\n",
    "\n",
    "result = 0\n",
    "for x,y in somelist:\n",
    "    result = result + (x*y)\n",
    "print(result)"
   ]
  },
  {
   "cell_type": "code",
   "execution_count": null,
   "id": "8a9638c7",
   "metadata": {},
   "outputs": [
    {
     "name": "stdout",
     "output_type": "stream",
     "text": [
      "Found a negative number at index  2\n",
      "Found a negative number at index  5\n"
     ]
    }
   ],
   "source": [
    "## The enumerate function\n",
    "x = [1,3,-7,4,9,-5,4]\n",
    "for i,n in enumerate(x): # enumerate returns tuples of (index,item)\n",
    "    if n < 0:\n",
    "        print(\"Found a negative number at index \", i)"
   ]
  },
  {
   "cell_type": "markdown",
   "id": "ac236be7",
   "metadata": {},
   "source": [
    "#### The zip function"
   ]
  },
  {
   "cell_type": "code",
   "execution_count": null,
   "id": "d44087aa",
   "metadata": {},
   "outputs": [
    {
     "data": {
      "text/plain": [
       "[(1, 'a'), (2, 'b'), (3, 'c')]"
      ]
     },
     "execution_count": 21,
     "metadata": {},
     "output_type": "execute_result"
    }
   ],
   "source": [
    "## The zip function\n",
    "x = [1, 2, 3, 4]\n",
    "y = ['a', 'b', 'c']\n",
    "z = zip(x, y)\n",
    "list(z)"
   ]
  },
  {
   "cell_type": "markdown",
   "id": "98b027ab",
   "metadata": {},
   "source": [
    "#### List, set, dictionary and generator comprehensions"
   ]
  },
  {
   "cell_type": "code",
   "execution_count": null,
   "id": "80ab637e",
   "metadata": {},
   "outputs": [
    {
     "name": "stdout",
     "output_type": "stream",
     "text": [
      "[1, 4, 9, 16]\n",
      "[1, 4, 9, 16]\n",
      "[9, 16]\n"
     ]
    }
   ],
   "source": [
    "# List comprehension\n",
    "## Compare\n",
    "x = [1, 2, 3, 4]\n",
    "x_squared = []\n",
    "for item in x:\n",
    "    x_squared.append(item*item)\n",
    "print(x_squared)\n",
    "\n",
    "new_list = [item * item for item in x]\n",
    "print(new_list)\n",
    "\n",
    "new_list_with_condition = [item * item for item in x if item > 2]\n",
    "print(new_list_with_condition)"
   ]
  },
  {
   "cell_type": "code",
   "execution_count": 30,
   "id": "f62565d4",
   "metadata": {},
   "outputs": [
    {
     "name": "stdout",
     "output_type": "stream",
     "text": [
      "{16, 1, 4, 9}\n"
     ]
    }
   ],
   "source": [
    "# Set comprehension\n",
    "x_squared_set = {item * item for item in x}\n",
    "print(x_squared_set)"
   ]
  },
  {
   "cell_type": "code",
   "execution_count": 28,
   "id": "25a2b0e2",
   "metadata": {},
   "outputs": [
    {
     "name": "stdout",
     "output_type": "stream",
     "text": [
      "{1: 1, 2: 4, 3: 9, 4: 16}\n"
     ]
    }
   ],
   "source": [
    "# Dict comprehension\n",
    "x_squared_dict = {item: item * item for item in x}\n",
    "print(x_squared_dict)"
   ]
  },
  {
   "cell_type": "code",
   "execution_count": null,
   "id": "8f0d9761",
   "metadata": {},
   "outputs": [
    {
     "name": "stdout",
     "output_type": "stream",
     "text": [
      "<generator object <genexpr> at 0x7fa7a258d2f0>\n",
      "1\n",
      "4\n",
      "9\n",
      "16\n"
     ]
    }
   ],
   "source": [
    "# Generator expressions\n",
    "## Observe that this does not return a list. Instead, it returns a generator object that could be used as the iterator in a for loop, which is very similar to what the range function does.\n",
    "x_squared_generator = (item * item for item in x)\n",
    "print(x_squared_generator)\n",
    "\n",
    "for square in x_squared_generator:\n",
    "    print(square,)"
   ]
  },
  {
   "cell_type": "markdown",
   "id": "11e864df",
   "metadata": {},
   "source": [
    "#### About boolean objects "
   ]
  },
  {
   "cell_type": "markdown",
   "id": "370231eb",
   "metadata": {},
   "source": [
    "In python the following objects are considered False:\n",
    "0, 0.0, 0+0j, \"\", [], {}, (), None, and other objects that could have a '0' value.\n",
    "All other stuff is True\n",
    "\n",
    "Obs: 'if 0 < x and x < 10' and 'if 0 < x < 10' are equivalents"
   ]
  },
  {
   "cell_type": "markdown",
   "id": "56284c32",
   "metadata": {},
   "source": []
  }
 ],
 "metadata": {
  "kernelspec": {
   "display_name": "python-study-notebooks",
   "language": "python",
   "name": "python3"
  },
  "language_info": {
   "codemirror_mode": {
    "name": "ipython",
    "version": 3
   },
   "file_extension": ".py",
   "mimetype": "text/x-python",
   "name": "python",
   "nbconvert_exporter": "python",
   "pygments_lexer": "ipython3",
   "version": "3.13.2"
  }
 },
 "nbformat": 4,
 "nbformat_minor": 5
}
