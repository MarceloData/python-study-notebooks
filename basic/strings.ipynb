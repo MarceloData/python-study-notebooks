{
 "cells": [
  {
   "cell_type": "markdown",
   "id": "1b5f81b6",
   "metadata": {},
   "source": [
    "#### Strings are sequences of characters"
   ]
  },
  {
   "cell_type": "code",
   "execution_count": null,
   "id": "1fbb728c",
   "metadata": {},
   "outputs": [
    {
     "name": "stdout",
     "output_type": "stream",
     "text": [
      "H\n",
      "o\n",
      "ello\n",
      "5\n",
      "HelloWorld\n",
      "xxxxxxxx\n"
     ]
    }
   ],
   "source": [
    "x = \"Hello\"\n",
    "print(x[0])\n",
    "print(x[-1])\n",
    "print(x[1:])\n",
    "print(len(x))\n",
    "print(\"Hello\" + \"World\")\n",
    "print(8*\"x\")"
   ]
  },
  {
   "cell_type": "code",
   "execution_count": 4,
   "id": "bf5632b4",
   "metadata": {},
   "outputs": [
    {
     "data": {
      "text/plain": [
       "'Goodbye'"
      ]
     },
     "execution_count": 4,
     "metadata": {},
     "output_type": "execute_result"
    }
   ],
   "source": [
    "## Chop the newline chatacter\n",
    "x = \"Goodbye\\n\"\n",
    "x = x[:-1]\n",
    "x"
   ]
  },
  {
   "cell_type": "markdown",
   "id": "b4b641c9",
   "metadata": {},
   "source": [
    "#### Special Characters and scape sequences"
   ]
  },
  {
   "cell_type": "code",
   "execution_count": null,
   "id": "ace8cdb6",
   "metadata": {},
   "outputs": [
    {
     "name": "stdout",
     "output_type": "stream",
     "text": [
      "m\n",
      "m\n",
      "m\n",
      "\n",
      "\n",
      "\n",
      "\n",
      "\n",
      "\n"
     ]
    }
   ],
   "source": [
    "## Numeric (octal and hexadecimal)\n",
    "print('m')\n",
    "print('\\155')\n",
    "print('\\x6D')\n",
    "print('\\n') ## newline\n",
    "print('\\012') ## newline\n",
    "print('\\x0A') ## newline"
   ]
  },
  {
   "cell_type": "markdown",
   "id": "3d087121",
   "metadata": {},
   "source": [
    "#### Unicode (number and unicode names)"
   ]
  },
  {
   "cell_type": "code",
   "execution_count": null,
   "id": "d67b69c2",
   "metadata": {},
   "outputs": [
    {
     "name": "stdout",
     "output_type": "stream",
     "text": [
      "a\n",
      "á\n",
      "á\n"
     ]
    }
   ],
   "source": [
    "unicode_a = '\\N{LATIN SMALL LETTER A}'\n",
    "print(unicode_a)\n",
    "unicode_a_with_acute = '\\N{LATIN SMALL LETTER A WITH ACUTE}'\n",
    "print(unicode_a_with_acute)\n",
    "print(\"\\u00E1\")"
   ]
  },
  {
   "cell_type": "code",
   "execution_count": 21,
   "id": "4b8b18d0",
   "metadata": {},
   "outputs": [
    {
     "name": "stdout",
     "output_type": "stream",
     "text": [
      "a\n",
      "\tb\n",
      "abc\n"
     ]
    }
   ],
   "source": [
    "## Printing with special characters\n",
    "print('a\\n\\tb')\n",
    "print(\"abc\\n\", end=\"\")"
   ]
  },
  {
   "cell_type": "markdown",
   "id": "6e003e89",
   "metadata": {},
   "source": [
    "#### Split and Join methods"
   ]
  },
  {
   "cell_type": "code",
   "execution_count": null,
   "id": "54d9d022",
   "metadata": {},
   "outputs": [
    {
     "name": "stdout",
     "output_type": "stream",
     "text": [
      "join puts spaces between elements\n",
      "Separated::with::colons\n",
      "Separatedbynothing\n"
     ]
    }
   ],
   "source": [
    "print(\" \".join([\"join\", \"puts\", \"spaces\", \"between\",\"elements\"]))\n",
    "print(\"::\".join([\"Separated\", \"with\", \"colons\"]))\n",
    "print(\"\".join([\"Separated\", \"by\", \"nothing\"]))"
   ]
  },
  {
   "cell_type": "code",
   "execution_count": 27,
   "id": "cffc4697",
   "metadata": {},
   "outputs": [
    {
     "data": {
      "text/plain": [
       "['You', 'can', 'have', 'tabs', 'and', 'newlines', 'mixed', 'in']"
      ]
     },
     "execution_count": 27,
     "metadata": {},
     "output_type": "execute_result"
    }
   ],
   "source": [
    "x = \"You\\t\\t can have tabs\\t\\n \\t and newlines \\n\\n \" \\\n",
    "\"mixed in\"\n",
    "x.split()"
   ]
  },
  {
   "cell_type": "code",
   "execution_count": 29,
   "id": "77bc9d7c",
   "metadata": {},
   "outputs": [
    {
     "data": {
      "text/plain": [
       "['Mi', 'i', 'ippi']"
      ]
     },
     "execution_count": 29,
     "metadata": {},
     "output_type": "execute_result"
    }
   ],
   "source": [
    "x = \"Mississippi\"\n",
    "x.split(\"ss\")"
   ]
  },
  {
   "cell_type": "code",
   "execution_count": 30,
   "id": "20182488",
   "metadata": {},
   "outputs": [
    {
     "data": {
      "text/plain": [
       "['a', 'b c d']"
      ]
     },
     "execution_count": 30,
     "metadata": {},
     "output_type": "execute_result"
    }
   ],
   "source": [
    "x = 'a b c d'\n",
    "x.split(' ',1)"
   ]
  },
  {
   "cell_type": "code",
   "execution_count": 31,
   "id": "b558fe64",
   "metadata": {},
   "outputs": [
    {
     "data": {
      "text/plain": [
       "['a', 'b', 'c d']"
      ]
     },
     "execution_count": 31,
     "metadata": {},
     "output_type": "execute_result"
    }
   ],
   "source": [
    "x.split(' ',2)"
   ]
  },
  {
   "cell_type": "code",
   "execution_count": 32,
   "id": "3d726ba8",
   "metadata": {},
   "outputs": [
    {
     "data": {
      "text/plain": [
       "['a', 'b', 'c', 'd']"
      ]
     },
     "execution_count": 32,
     "metadata": {},
     "output_type": "execute_result"
    }
   ],
   "source": [
    "x.split(' ', 9)"
   ]
  },
  {
   "cell_type": "markdown",
   "id": "fb67d815",
   "metadata": {},
   "source": [
    "#### Converting strings to number"
   ]
  },
  {
   "cell_type": "code",
   "execution_count": null,
   "id": "d833181a",
   "metadata": {},
   "outputs": [
    {
     "data": {
      "text/plain": [
       "123.456"
      ]
     },
     "execution_count": 33,
     "metadata": {},
     "output_type": "execute_result"
    }
   ],
   "source": [
    "float('123.456')"
   ]
  },
  {
   "cell_type": "code",
   "execution_count": 34,
   "id": "81fe8918",
   "metadata": {},
   "outputs": [
    {
     "ename": "ValueError",
     "evalue": "could not convert string to float: 'xxyy'",
     "output_type": "error",
     "traceback": [
      "\u001b[31m---------------------------------------------------------------------------\u001b[39m",
      "\u001b[31mValueError\u001b[39m                                Traceback (most recent call last)",
      "\u001b[36mCell\u001b[39m\u001b[36m \u001b[39m\u001b[32mIn[34]\u001b[39m\u001b[32m, line 1\u001b[39m\n\u001b[32m----> \u001b[39m\u001b[32m1\u001b[39m \u001b[38;5;28;43mfloat\u001b[39;49m\u001b[43m(\u001b[49m\u001b[33;43m'\u001b[39;49m\u001b[33;43mxxyy\u001b[39;49m\u001b[33;43m'\u001b[39;49m\u001b[43m)\u001b[49m\n",
      "\u001b[31mValueError\u001b[39m: could not convert string to float: 'xxyy'"
     ]
    }
   ],
   "source": [
    "float('xxyy')"
   ]
  },
  {
   "cell_type": "code",
   "execution_count": 35,
   "id": "d9754119",
   "metadata": {},
   "outputs": [
    {
     "data": {
      "text/plain": [
       "3333"
      ]
     },
     "execution_count": 35,
     "metadata": {},
     "output_type": "execute_result"
    }
   ],
   "source": [
    "int('3333')"
   ]
  },
  {
   "cell_type": "code",
   "execution_count": 36,
   "id": "c34c84f8",
   "metadata": {},
   "outputs": [
    {
     "ename": "ValueError",
     "evalue": "invalid literal for int() with base 10: '123.456'",
     "output_type": "error",
     "traceback": [
      "\u001b[31m---------------------------------------------------------------------------\u001b[39m",
      "\u001b[31mValueError\u001b[39m                                Traceback (most recent call last)",
      "\u001b[36mCell\u001b[39m\u001b[36m \u001b[39m\u001b[32mIn[36]\u001b[39m\u001b[32m, line 1\u001b[39m\n\u001b[32m----> \u001b[39m\u001b[32m1\u001b[39m \u001b[38;5;28;43mint\u001b[39;49m\u001b[43m(\u001b[49m\u001b[33;43m'\u001b[39;49m\u001b[33;43m123.456\u001b[39;49m\u001b[33;43m'\u001b[39;49m\u001b[43m)\u001b[49m\n",
      "\u001b[31mValueError\u001b[39m: invalid literal for int() with base 10: '123.456'"
     ]
    }
   ],
   "source": [
    "int('123.456')"
   ]
  },
  {
   "cell_type": "code",
   "execution_count": 39,
   "id": "a80cbc7d",
   "metadata": {},
   "outputs": [
    {
     "name": "stdout",
     "output_type": "stream",
     "text": [
      "4096\n",
      "5\n",
      "255\n"
     ]
    }
   ],
   "source": [
    "print(int('10000',8)) ## octal number\n",
    "print(int('101', 2)) ## binary number\n",
    "print(int('ff', 16)) ## hexadecimal number"
   ]
  },
  {
   "cell_type": "code",
   "execution_count": 41,
   "id": "6ec9ec15",
   "metadata": {},
   "outputs": [
    {
     "ename": "ValueError",
     "evalue": "invalid literal for int() with base 6: '123456'",
     "output_type": "error",
     "traceback": [
      "\u001b[31m---------------------------------------------------------------------------\u001b[39m",
      "\u001b[31mValueError\u001b[39m                                Traceback (most recent call last)",
      "\u001b[36mCell\u001b[39m\u001b[36m \u001b[39m\u001b[32mIn[41]\u001b[39m\u001b[32m, line 1\u001b[39m\n\u001b[32m----> \u001b[39m\u001b[32m1\u001b[39m \u001b[38;5;28;43mint\u001b[39;49m\u001b[43m(\u001b[49m\u001b[33;43m'\u001b[39;49m\u001b[33;43m123456\u001b[39;49m\u001b[33;43m'\u001b[39;49m\u001b[43m,\u001b[49m\u001b[43m \u001b[49m\u001b[32;43m6\u001b[39;49m\u001b[43m)\u001b[49m  \u001b[38;5;66;03m## base 6, but there is a problem here\u001b[39;00m\n\u001b[32m      2\u001b[39m \u001b[38;5;66;03m## six not appear in any number of base 6\u001b[39;00m\n",
      "\u001b[31mValueError\u001b[39m: invalid literal for int() with base 6: '123456'"
     ]
    }
   ],
   "source": [
    "int('123456', 6)  ## base 6, but there is a problem here\n",
    "## six not appear in any number of base 6"
   ]
  },
  {
   "cell_type": "markdown",
   "id": "073fbda6",
   "metadata": {},
   "source": [
    "#### Other functions"
   ]
  },
  {
   "cell_type": "code",
   "execution_count": null,
   "id": "d5df2371",
   "metadata": {},
   "outputs": [
    {
     "name": "stdout",
     "output_type": "stream",
     "text": [
      "Hello,    World\n",
      "Hello,    World\t\t \n",
      "  Hello,    World\n"
     ]
    }
   ],
   "source": [
    "x = \"  Hello,    World\\t\\t \"\n",
    "print(x.strip())\n",
    "print(x.lstrip())\n",
    "print(x.rstrip())"
   ]
  },
  {
   "cell_type": "markdown",
   "id": "27484b69",
   "metadata": {},
   "source": [
    "#### Whitespaces in python"
   ]
  },
  {
   "cell_type": "code",
   "execution_count": null,
   "id": "8fe85dc7",
   "metadata": {},
   "outputs": [
    {
     "data": {
      "text/plain": [
       "' \\t\\n\\r\\x0b\\x0c'"
      ]
     },
     "execution_count": 45,
     "metadata": {},
     "output_type": "execute_result"
    }
   ],
   "source": [
    "import string\n",
    "string.whitespace"
   ]
  },
  {
   "cell_type": "markdown",
   "id": "fc8d497c",
   "metadata": {},
   "source": [
    "#### Strips"
   ]
  },
  {
   "cell_type": "code",
   "execution_count": null,
   "id": "33ca70c5",
   "metadata": {},
   "outputs": [
    {
     "name": "stdout",
     "output_type": "stream",
     "text": [
      ".python.org\n",
      "www.python.\n",
      "python\n",
      "python.org\n",
      "www.python\n"
     ]
    }
   ],
   "source": [
    "x = \"www.python.org\"\n",
    "print(x.strip(\"w\"))\n",
    "print(x.rstrip(\"gor\"))\n",
    "print(x.strip(\".gorw\"))\n",
    "print(x.removeprefix(\"www.\")) ## More predictable than 'strips'\n",
    "print(x.removesuffix(\".org\")) ## More predictable than 'strips'"
   ]
  },
  {
   "cell_type": "markdown",
   "id": "fb5f06a6",
   "metadata": {},
   "source": [
    "#### String Searching"
   ]
  },
  {
   "cell_type": "code",
   "execution_count": null,
   "id": "ff21ab0a",
   "metadata": {},
   "outputs": [
    {
     "name": "stdout",
     "output_type": "stream",
     "text": [
      "2\n",
      "-1\n"
     ]
    }
   ],
   "source": [
    "x = \"Mississippi\"\n",
    "print(x.find(\"ss\")) ## Return the index of the first letter of the pattern finded\n",
    "print(x.find(\"zz\")) ## If there ir no pattern, return -1"
   ]
  },
  {
   "cell_type": "code",
   "execution_count": 51,
   "id": "64e41849",
   "metadata": {},
   "outputs": [
    {
     "name": "stdout",
     "output_type": "stream",
     "text": [
      "Help on built-in function find:\n",
      "\n",
      "find(sub[, start[, end]], /) method of builtins.str instance\n",
      "    Return the lowest index in S where substring sub is found, such that sub is contained within S[start:end].\n",
      "\n",
      "    Optional arguments start and end are interpreted as in slice notation.\n",
      "    Return -1 on failure.\n",
      "\n"
     ]
    }
   ],
   "source": [
    "help(x.find)"
   ]
  },
  {
   "cell_type": "code",
   "execution_count": 55,
   "id": "24eb7101",
   "metadata": {},
   "outputs": [
    {
     "name": "stdout",
     "output_type": "stream",
     "text": [
      "Help on built-in function rfind:\n",
      "\n",
      "rfind(sub[, start[, end]], /) method of builtins.str instance\n",
      "    Return the highest index in S where substring sub is found, such that sub is contained within S[start:end].\n",
      "\n",
      "    Optional arguments start and end are interpreted as in slice notation.\n",
      "    Return -1 on failure.\n",
      "\n"
     ]
    }
   ],
   "source": [
    "help(x.rfind)"
   ]
  },
  {
   "cell_type": "code",
   "execution_count": 54,
   "id": "410e4f40",
   "metadata": {},
   "outputs": [
    {
     "name": "stdout",
     "output_type": "stream",
     "text": [
      "5\n",
      "-1\n",
      "5\n"
     ]
    }
   ],
   "source": [
    "x = \"Mississippi\"\n",
    "print(x.find(\"ss\", 3))\n",
    "print(x.find(\"ss\", 0, 3))\n",
    "print(x.rfind(\"ss\"))"
   ]
  },
  {
   "cell_type": "code",
   "execution_count": 59,
   "id": "08b39ca8",
   "metadata": {},
   "outputs": [
    {
     "name": "stdout",
     "output_type": "stream",
     "text": [
      "True\n",
      "False\n",
      "True\n",
      "False\n",
      "True\n"
     ]
    }
   ],
   "source": [
    "print(x.startswith(\"Miss\"))\n",
    "print(x.startswith(\"Mist\"))\n",
    "print(x.endswith(\"pi\"))\n",
    "print(x.endswith(\"p\"))\n",
    "print(x.endswith((\"i\",\"u\")))"
   ]
  },
  {
   "cell_type": "code",
   "execution_count": 60,
   "id": "2e2daacc",
   "metadata": {},
   "outputs": [
    {
     "data": {
      "text/plain": [
       "'Mi+++i+++ipi'"
      ]
     },
     "execution_count": 60,
     "metadata": {},
     "output_type": "execute_result"
    }
   ],
   "source": [
    "## Modifying strings\n",
    "x = \"Mississipi\"\n",
    "x.replace(\"ss\",\"+++\")"
   ]
  },
  {
   "cell_type": "code",
   "execution_count": null,
   "id": "8bfd9a06",
   "metadata": {},
   "outputs": [
    {
     "name": "stdout",
     "output_type": "stream",
     "text": [
      "!x & [y % z]\n",
      "x  y  z\n"
     ]
    }
   ],
   "source": [
    "x = \"~x ^ (y % z)\"\n",
    "table = x.maketrans(\"~^()\", \"!&[]\") ## replace the characters in the first argument with the ones in the second\n",
    "print(x.translate(table))\n",
    "table = x.maketrans(\"\",\"\",\"()~^%\") ## this pattern to remove characters in the third argument\n",
    "print(x.translate(table))"
   ]
  },
  {
   "cell_type": "code",
   "execution_count": null,
   "id": "4f6d3dc5",
   "metadata": {},
   "outputs": [
    {
     "name": "stdout",
     "output_type": "stream",
     "text": [
      ",olleH\n"
     ]
    }
   ],
   "source": [
    "## List manipulation to modify strings\n",
    "text = \"Hello, World\"\n",
    "wordList = list(text)\n",
    "wordList[6:] = [] # remove everything after comma\n",
    "wordList.reverse()\n",
    "text = \"\".join(wordList) # join with no space between\n",
    "print(text)"
   ]
  },
  {
   "cell_type": "markdown",
   "id": "37bc3042",
   "metadata": {},
   "source": [
    "#### Useful methods"
   ]
  },
  {
   "cell_type": "code",
   "execution_count": null,
   "id": "1d3314dd",
   "metadata": {},
   "outputs": [
    {
     "name": "stdout",
     "output_type": "stream",
     "text": [
      "True\n",
      "False\n",
      "False\n",
      "True\n"
     ]
    }
   ],
   "source": [
    "x = \"123\"\n",
    "print(x.isdigit())\n",
    "print(x.isalpha())\n",
    "x = \"M\"\n",
    "print(x.islower())\n",
    "print(x.isupper())"
   ]
  },
  {
   "cell_type": "markdown",
   "id": "7ac2a8c6",
   "metadata": {},
   "source": [
    "#### Converting objects to strings"
   ]
  },
  {
   "cell_type": "code",
   "execution_count": null,
   "id": "70988c4e",
   "metadata": {},
   "outputs": [
    {
     "data": {
      "text/plain": [
       "'[1, 2, 3]'"
      ]
     },
     "execution_count": 68,
     "metadata": {},
     "output_type": "execute_result"
    }
   ],
   "source": [
    "repr([1,2,3])"
   ]
  },
  {
   "cell_type": "code",
   "execution_count": 70,
   "id": "9ff362d3",
   "metadata": {},
   "outputs": [
    {
     "name": "stdout",
     "output_type": "stream",
     "text": [
      "the list x is [1, 2, [3, 4]]\n",
      "<built-in function len>\n"
     ]
    }
   ],
   "source": [
    "x = [1]\n",
    "x.append(2)\n",
    "x.append([3,4])\n",
    "print('the list x is ' + repr(x))\n",
    "print(repr(len))"
   ]
  },
  {
   "cell_type": "markdown",
   "id": "71ce4a93",
   "metadata": {},
   "source": [
    "#### Formating"
   ]
  },
  {
   "cell_type": "code",
   "execution_count": null,
   "id": "54fb1d06",
   "metadata": {},
   "outputs": [
    {
     "name": "stdout",
     "output_type": "stream",
     "text": [
      "Ambrosia is the food of the gods\n",
      "{Ambrosia} is the food of the gods\n"
     ]
    }
   ],
   "source": [
    "## format method with positional parameters\n",
    "print(\"{0} is the {1} of {2}\".format(\"Ambrosia\", \"food\", \"the gods\"))\n",
    "print(\"{{Ambrosia}} is the {0} of {1}\".format(\"food\", \"the gods\"))"
   ]
  },
  {
   "cell_type": "code",
   "execution_count": 76,
   "id": "85c68a33",
   "metadata": {},
   "outputs": [
    {
     "name": "stdout",
     "output_type": "stream",
     "text": [
      "Ambrosia is the food of the gods\n",
      "Ambrosia is the food of the gods\n"
     ]
    }
   ],
   "source": [
    "## Format method and named parameters\n",
    "print(\"{food} is the food of {user}\".format(food=\"Ambrosia\", user=\"the gods\"))\n",
    "print(\"{0} is the food of {user[1]}\".format(\"Ambrosia\",user=[\"men\",\"the gods\",\"others\"]))"
   ]
  },
  {
   "cell_type": "code",
   "execution_count": 79,
   "id": "30d09995",
   "metadata": {},
   "outputs": [
    {
     "name": "stdout",
     "output_type": "stream",
     "text": [
      "Ambrosia   is the food of gods\n",
      "Ambrosia   is the food of gods\n",
      "  Ambrosia is the food of gods\n",
      "&&Ambrosia is the food of gods\n"
     ]
    }
   ],
   "source": [
    "## Format specifiers\n",
    "print(\"{0:10} is the food of gods\".format(\"Ambrosia\")) # the field with 10 spaces wide, padded with spaces\n",
    "print(\"{0:{1}} is the food of gods\".format(\"Ambrosia\",10)) # {1} width is from the second parameter\n",
    "print(\"{0:>10} is the food of gods\".format(\"Ambrosia\")) # :>10 forces right justification\n",
    "print(\"{0:&>10} is the food of gods\".format(\"Ambrosia\")) # :&>10 forces right justification padded with & character"
   ]
  },
  {
   "cell_type": "code",
   "execution_count": 88,
   "id": "795f6019",
   "metadata": {},
   "outputs": [
    {
     "name": "stdout",
     "output_type": "stream",
     "text": [
      "The answer is 42\n",
      "sum of first 4 primes is 11\n",
      "PI is        3.1\n",
      "PI=       3.1\n",
      "sum of first 4 primes is sum(primes)=11\n"
     ]
    }
   ],
   "source": [
    "## String interpolation with f-strings\n",
    "value = 42\n",
    "message = f\"The answer is {value}\"\n",
    "print(message)\n",
    "primes = [1,2,3,5]\n",
    "print(f\"sum of first 4 primes is {sum(primes)}\")\n",
    "PI = 3.1415\n",
    "print(f\"PI is {PI:{10}.{2}}\")\n",
    "print(f\"{PI=:{10}.{2}}\")\n",
    "print(f\"sum of first 4 primes is {sum(primes)=}\")"
   ]
  },
  {
   "cell_type": "code",
   "execution_count": 91,
   "id": "b6a34948",
   "metadata": {},
   "outputs": [
    {
     "name": "stdout",
     "output_type": "stream",
     "text": [
      "Ambrosia is the food of the gods\n",
      "Nector is the drink of gods\n",
      "The list contains: [1, 2, 'three']\n"
     ]
    }
   ],
   "source": [
    "## Formating strings with %\n",
    "print(\"%s is the %s of %s\" % (\"Ambrosia\", \"food\", \"the gods\"))\n",
    "print(\"%s is the %s of %s\" % (\"Nector\", \"drink\", \"gods\"))\n",
    "x = [1,2,\"three\"]\n",
    "print(\"The %s contains: %s\" % (\"list\",x))"
   ]
  },
  {
   "cell_type": "code",
   "execution_count": 92,
   "id": "ec980a5f",
   "metadata": {},
   "outputs": [
    {
     "name": "stdout",
     "output_type": "stream",
     "text": [
      "PI is <3.14  >\n"
     ]
    }
   ],
   "source": [
    "## Using format sequences\n",
    "print(\"PI is <%-6.2f>\" % 3.1415)"
   ]
  },
  {
   "cell_type": "code",
   "execution_count": 94,
   "id": "29a1ad59",
   "metadata": {},
   "outputs": [
    {
     "name": "stdout",
     "output_type": "stream",
     "text": [
      "3.14 - 3.1416 - 2.72\n"
     ]
    }
   ],
   "source": [
    "## Namded parameters and formatting sequences\n",
    "num_dict = {'e':2.7180, 'PI':3.14159}\n",
    "print(\"%(PI).2f - %(PI).4f - %(e).2f\" % num_dict)"
   ]
  },
  {
   "cell_type": "code",
   "execution_count": 4,
   "id": "607ffae4",
   "metadata": {},
   "outputs": [
    {
     "name": "stdout",
     "output_type": "stream",
     "text": [
      "['capitalize', 'casefold', 'center', 'count', 'encode', 'endswith', 'expandtabs', 'find', 'format', 'format_map', 'index', 'isalnum', 'isalpha', 'isascii', 'isdecimal', 'isdigit', 'isidentifier', 'islower', 'isnumeric', 'isprintable', 'isspace', 'istitle', 'isupper', 'join', 'ljust', 'lower', 'lstrip', 'maketrans', 'partition', 'removeprefix', 'removesuffix', 'replace', 'rfind', 'rindex', 'rjust', 'rpartition', 'rsplit', 'rstrip', 'split', 'splitlines', 'startswith', 'strip', 'swapcase', 'title', 'translate', 'upper', 'zfill']\n"
     ]
    }
   ],
   "source": [
    "method_list = [method for method in dir(x) if method.startswith('__') is False]\n",
    "print(method_list)"
   ]
  },
  {
   "cell_type": "code",
   "execution_count": null,
   "id": "100a8872",
   "metadata": {},
   "outputs": [],
   "source": []
  }
 ],
 "metadata": {
  "kernelspec": {
   "display_name": "python-study-notebooks",
   "language": "python",
   "name": "python3"
  },
  "language_info": {
   "codemirror_mode": {
    "name": "ipython",
    "version": 3
   },
   "file_extension": ".py",
   "mimetype": "text/x-python",
   "name": "python",
   "nbconvert_exporter": "python",
   "pygments_lexer": "ipython3",
   "version": "3.13.2"
  }
 },
 "nbformat": 4,
 "nbformat_minor": 5
}
