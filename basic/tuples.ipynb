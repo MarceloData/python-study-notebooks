{
 "cells": [
  {
   "cell_type": "code",
   "execution_count": 4,
   "id": "582f8c4d",
   "metadata": {},
   "outputs": [
    {
     "data": {
      "text/plain": [
       "('a', 'b', 'c')"
      ]
     },
     "execution_count": 4,
     "metadata": {},
     "output_type": "execute_result"
    }
   ],
   "source": [
    "x = ('a', 'b', 'c')\n",
    "x"
   ]
  },
  {
   "cell_type": "markdown",
   "id": "af6a810f",
   "metadata": {},
   "source": [
    "#### Operations: similar to lists"
   ]
  },
  {
   "cell_type": "code",
   "execution_count": null,
   "id": "c9d0b74b",
   "metadata": {},
   "outputs": [
    {
     "name": "stdout",
     "output_type": "stream",
     "text": [
      "c\n",
      "('b', 'c')\n",
      "3\n",
      "c\n",
      "a\n",
      "False\n",
      "True\n",
      "('a', 'b', 'c', 'a', 'b', 'c')\n",
      "('a', 'b', 'c', 'a', 'b', 'c')\n",
      "('a', 'b', 'c')\n",
      "('a', 'b', 'c')\n",
      "('a', 'b', 'c')\n"
     ]
    }
   ],
   "source": [
    "## Operations: similar to lists\n",
    "print(x[2])\n",
    "print(x[1:])\n",
    "print(len(x))\n",
    "print(max(x))\n",
    "print(min(x))\n",
    "print(5 in x)\n",
    "print(5 not in x)\n",
    "print(x + x)\n",
    "print(2 * x)\n",
    "print(x[:])\n",
    "print(x*1)\n",
    "print(x+())\n",
    "\n",
    "## Since tuples are immutable they do not really copy, but create aliases for the original tuple."
   ]
  },
  {
   "cell_type": "code",
   "execution_count": 10,
   "id": "fadd7d39",
   "metadata": {},
   "outputs": [
    {
     "ename": "TypeError",
     "evalue": "'tuple' object does not support item assignment",
     "output_type": "error",
     "traceback": [
      "\u001b[31m---------------------------------------------------------------------------\u001b[39m",
      "\u001b[31mTypeError\u001b[39m                                 Traceback (most recent call last)",
      "\u001b[36mCell\u001b[39m\u001b[36m \u001b[39m\u001b[32mIn[10]\u001b[39m\u001b[32m, line 2\u001b[39m\n\u001b[32m      1\u001b[39m \u001b[38;5;66;03m## Tuples are immutable\u001b[39;00m\n\u001b[32m----> \u001b[39m\u001b[32m2\u001b[39m \u001b[43mx\u001b[49m\u001b[43m[\u001b[49m\u001b[32;43m2\u001b[39;49m\u001b[43m]\u001b[49m = \u001b[33m'\u001b[39m\u001b[33md\u001b[39m\u001b[33m'\u001b[39m\n",
      "\u001b[31mTypeError\u001b[39m: 'tuple' object does not support item assignment"
     ]
    }
   ],
   "source": [
    "## Tuples are immutable\n",
    "x[2] = 'd'"
   ]
  },
  {
   "cell_type": "code",
   "execution_count": 15,
   "id": "17797c53",
   "metadata": {},
   "outputs": [
    {
     "data": {
      "text/plain": [
       "(7,)"
      ]
     },
     "execution_count": 15,
     "metadata": {},
     "output_type": "execute_result"
    }
   ],
   "source": [
    "## One-element tuple need a comma\n",
    "x = 3\n",
    "y = 4\n",
    "(x+y) ## this a expression or a tuple?\n",
    "(x+y,) # to solve the problem above we put a comma after the unique element\n"
   ]
  },
  {
   "cell_type": "markdown",
   "id": "d6655202",
   "metadata": {},
   "source": [
    "#### Packing and unpacking tuples"
   ]
  },
  {
   "cell_type": "code",
   "execution_count": 24,
   "id": "c04d3031",
   "metadata": {},
   "outputs": [
    {
     "name": "stdout",
     "output_type": "stream",
     "text": [
      "1\n",
      "2\n",
      "3\n",
      "2\n"
     ]
    }
   ],
   "source": [
    "(one, two, three, four) = (1,2,3,4)\n",
    "print(one)\n",
    "print(two)\n",
    "one, two, three, four = 1,2,3,4 # Another way of unpacking\n",
    "print(three)\n",
    "\n",
    "## This is a convenient way to swap variables\n",
    "var1 = 1\n",
    "var2 = 2\n",
    "var1, var2 = var2, var1\n",
    "print(var1)"
   ]
  },
  {
   "cell_type": "code",
   "execution_count": null,
   "id": "a16d39d6",
   "metadata": {},
   "outputs": [],
   "source": [
    "## Another forms of unpacking\n",
    "x = (1,2,3,4)\n",
    "a,b,*c = x\n",
    "print(a,b,c)\n",
    "a,*b,c = x\n",
    "print(a,b,c)\n",
    "*a,b,c = x\n",
    "print(a,b,c)\n",
    "a,b,c,d,*e = x\n",
    "print(a,b,c,d,e)"
   ]
  },
  {
   "cell_type": "code",
   "execution_count": 27,
   "id": "79617236",
   "metadata": {},
   "outputs": [
    {
     "name": "stdout",
     "output_type": "stream",
     "text": [
      "1\n",
      "[2, 3, 4]\n",
      "(5, 6, 7)\n",
      "8 9 10 11 12\n"
     ]
    }
   ],
   "source": [
    "## Unpacking with lists\n",
    "[a,b] = [1,2]\n",
    "[c,d] = 3,4\n",
    "[e,f] = (5,6)\n",
    "[g,h] = 7,8\n",
    "i,j = [9,10]\n",
    "k,l = (11,12)\n",
    "print(a)\n",
    "print([b,c,d])\n",
    "print((e,f,g))\n",
    "print(h,i,j,k,l)"
   ]
  },
  {
   "cell_type": "markdown",
   "id": "b0d1c47f",
   "metadata": {},
   "source": [
    "#### Converting lists and tuples"
   ]
  },
  {
   "cell_type": "code",
   "execution_count": 30,
   "id": "c1e91d4c",
   "metadata": {},
   "outputs": [
    {
     "name": "stdout",
     "output_type": "stream",
     "text": [
      "[1, 2, 3, 4]\n",
      "(1, 2, 3, 4)\n",
      "['H', 'e', 'l', 'l', 'o']\n"
     ]
    }
   ],
   "source": [
    "print(list((1,2,3,4)))\n",
    "print(tuple([1,2,3,4]))\n",
    "print(list(\"Hello\"))"
   ]
  },
  {
   "cell_type": "code",
   "execution_count": null,
   "id": "a86178be",
   "metadata": {},
   "outputs": [],
   "source": []
  }
 ],
 "metadata": {
  "kernelspec": {
   "display_name": "python-study-notebooks",
   "language": "python",
   "name": "python3"
  },
  "language_info": {
   "codemirror_mode": {
    "name": "ipython",
    "version": 3
   },
   "file_extension": ".py",
   "mimetype": "text/x-python",
   "name": "python",
   "nbconvert_exporter": "python",
   "pygments_lexer": "ipython3",
   "version": "3.13.2"
  }
 },
 "nbformat": 4,
 "nbformat_minor": 5
}
