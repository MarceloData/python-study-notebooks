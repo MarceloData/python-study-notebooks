{
 "cells": [
  {
   "cell_type": "markdown",
   "id": "8f956ad7",
   "metadata": {},
   "source": [
    "#### Dictionaries"
   ]
  },
  {
   "cell_type": "code",
   "execution_count": 17,
   "id": "1feae7ed",
   "metadata": {},
   "outputs": [
    {
     "name": "stdout",
     "output_type": "stream",
     "text": [
      "Hello, Friend\n",
      "{0: 'Hello', 1: 'Goodbye'}\n"
     ]
    }
   ],
   "source": [
    "## Dictionaries are called assossiative arrays or hash tables in other languages\n",
    "x_dict = {}\n",
    "x_dict[0] = 'Hello'\n",
    "x_dict[1] = 'Goodbye'\n",
    "print(x_dict[0] + \", Friend\")\n",
    "print(x_dict)"
   ]
  },
  {
   "cell_type": "code",
   "execution_count": 21,
   "id": "e26c5705",
   "metadata": {},
   "outputs": [
    {
     "name": "stdout",
     "output_type": "stream",
     "text": [
      "red is rouge\n",
      "{'red': 'rouge', 'blue': 'bleu', 'green': 'vert'}\n"
     ]
    }
   ],
   "source": [
    "english_to_french = {}\n",
    "english_to_french['red'] = 'rouge'\n",
    "english_to_french['blue'] = 'bleu'\n",
    "english_to_french['green'] = 'vert'\n",
    "print(\"red is\", english_to_french['red'])\n",
    "print(english_to_french)"
   ]
  },
  {
   "cell_type": "markdown",
   "id": "c8d1b8b3",
   "metadata": {},
   "source": [
    "#### Operations"
   ]
  },
  {
   "cell_type": "code",
   "execution_count": 22,
   "id": "fc2c2b6c",
   "metadata": {},
   "outputs": [
    {
     "name": "stdout",
     "output_type": "stream",
     "text": [
      "3\n",
      "['red', 'blue', 'green']\n",
      "['rouge', 'bleu', 'vert']\n",
      "[('red', 'rouge'), ('blue', 'bleu'), ('green', 'vert')]\n",
      "[('red', 'rouge'), ('blue', 'bleu')]\n",
      "True\n",
      "False\n"
     ]
    }
   ],
   "source": [
    "print(len(english_to_french))\n",
    "# keys, values and items return not lists but views that behave like sequences, but are dynamically updated whenever the dictionary changes. That's why you need to use the list function to make them appear as a list in these examples. Otherwise, they behave like sequences, allowing code to iterate over them in a for loop, using in to check membership in them, and so on.\n",
    "print(list(english_to_french.keys()))\n",
    "print(list(english_to_french.values()))\n",
    "print(list(english_to_french.items()))\n",
    "\n",
    "del english_to_french['green']\n",
    "print(list(english_to_french.items()))\n",
    "\n",
    "print('red' in english_to_french)\n",
    "print('orange' in english_to_french)\n"
   ]
  },
  {
   "cell_type": "code",
   "execution_count": null,
   "id": "81a45382",
   "metadata": {},
   "outputs": [
    {
     "name": "stdout",
     "output_type": "stream",
     "text": [
      "bleu\n",
      "No translation\n",
      "dict_items([('red', 'rouge'), ('blue', 'bleu')])\n"
     ]
    }
   ],
   "source": [
    "print(english_to_french.get('blue', 'No translation'))\n",
    "print(english_to_french.get('chartreuse', 'No translation')) # if second argument is not set, get function returns None if the dictionary does not contain that key.\n",
    "print(english_to_french.items())"
   ]
  },
  {
   "cell_type": "code",
   "execution_count": null,
   "id": "02892b20",
   "metadata": {},
   "outputs": [
    {
     "name": "stdout",
     "output_type": "stream",
     "text": [
      "No translation\n",
      "dict_items([('red', 'rouge'), ('blue', 'bleu'), ('chartreuse', 'No translation')])\n"
     ]
    }
   ],
   "source": [
    "print(english_to_french.setdefault('chartreuse', 'No translation')) # if the key does not exist setdefault creates a key with that name an set the value as the second argument\n",
    "print(english_to_french.items())"
   ]
  },
  {
   "cell_type": "code",
   "execution_count": null,
   "id": "4ed47cc2",
   "metadata": {},
   "outputs": [
    {
     "data": {
      "text/plain": [
       "{0: 'zero', 1: 'one'}"
      ]
     },
     "execution_count": 29,
     "metadata": {},
     "output_type": "execute_result"
    }
   ],
   "source": [
    "# Copy\n",
    "## If a dictionary contains a modifiable object we could use copy.deepcopy\n",
    "x = {0: 'zero', 1: 'one'}\n",
    "y = x.copy()\n",
    "y"
   ]
  },
  {
   "cell_type": "code",
   "execution_count": null,
   "id": "85f9b978",
   "metadata": {},
   "outputs": [
    {
     "data": {
      "text/plain": [
       "{0: 'zero', 1: 'ONE', 2: 'Two'}"
      ]
     },
     "execution_count": 28,
     "metadata": {},
     "output_type": "execute_result"
    }
   ],
   "source": [
    "## Update\n",
    "z = {1: 'ONE', 2: 'Two'}\n",
    "x = {0: 'zero', 1: 'one'}\n",
    "x.update(z)\n",
    "x"
   ]
  },
  {
   "cell_type": "markdown",
   "id": "50f9cf12",
   "metadata": {},
   "source": [
    "#### Objects that could be used as dictionary keys"
   ]
  },
  {
   "cell_type": "markdown",
   "id": "5ba31ed3",
   "metadata": {},
   "source": [
    "To an object could be used as key in a dictionary an object must be immutable and hasheable\n",
    "\n",
    "yes: int, float, boolean, complex, str, bytes, frozenset and tuple(with no mutable objects inside)\n",
    "\n",
    "no: bytearray, list, set, dictionary and tuple(with mutable objects inside)"
   ]
  },
  {
   "cell_type": "markdown",
   "id": "7e12e0ff",
   "metadata": {},
   "source": [
    "#### Space matrices"
   ]
  },
  {
   "cell_type": "code",
   "execution_count": 33,
   "id": "2fa22fc1",
   "metadata": {},
   "outputs": [
    {
     "name": "stdout",
     "output_type": "stream",
     "text": [
      "[[3, 0, -2, 11], [0, 9, 0, 0], [0, 7, 0, 0], [0, 0, 0, -5]]\n",
      "{(0, 0): 3, (0, 2): -2, (0, 3): 11, (1, 1): 9, (2, 1): 7, (3, 3): -5}\n",
      "0\n",
      "3\n"
     ]
    }
   ],
   "source": [
    "matrix = [[3,0,-2,11], [0,9,0,0], [0,7,0,0], [0,0,0,-5]]\n",
    "print(matrix)\n",
    "\n",
    "# representing as dictionary\n",
    "matrix_dict = {(0,0):3, (0,2):-2, (0,3):11, (1,1):9, (2,1):7, (3,3):-5}\n",
    "# if (0,1) in matrix_dict:\n",
    "#     element = matrix_dict[(0,1)]\n",
    "# else:\n",
    "#     element = 0\n",
    "\n",
    "print(matrix_dict)\n",
    "print(matrix_dict.get((0,1),0))\n",
    "print(matrix_dict.get((0,0),0))"
   ]
  },
  {
   "cell_type": "markdown",
   "id": "8f69beb8",
   "metadata": {},
   "source": [
    "#### Dictionaries as caches"
   ]
  },
  {
   "cell_type": "code",
   "execution_count": null,
   "id": "4c999e49",
   "metadata": {},
   "outputs": [],
   "source": [
    "sole_cache = {}\n",
    "def sole(m,n,t):\n",
    "    if (m,n,t) in sole_cache:\n",
    "        return sole_cache[(m,n,t)]\n",
    "    else:\n",
    "        result = pow(m,n) + pow(n,t)\n",
    "        sole_cache[(m,n,t)] = result\n",
    "        return result\n",
    "\n",
    "for i, m in"
   ]
  }
 ],
 "metadata": {
  "kernelspec": {
   "display_name": "python-study-notebooks",
   "language": "python",
   "name": "python3"
  },
  "language_info": {
   "codemirror_mode": {
    "name": "ipython",
    "version": 3
   },
   "file_extension": ".py",
   "mimetype": "text/x-python",
   "name": "python",
   "nbconvert_exporter": "python",
   "pygments_lexer": "ipython3",
   "version": "3.13.2"
  }
 },
 "nbformat": 4,
 "nbformat_minor": 5
}
