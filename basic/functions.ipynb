{
 "cells": [
  {
   "cell_type": "markdown",
   "id": "8146e124",
   "metadata": {},
   "source": [
    "#### Definition"
   ]
  },
  {
   "cell_type": "markdown",
   "id": "6cbbb2e9",
   "metadata": {},
   "source": [
    "In Python, there is no real procedures, pieces of code that does not return a value. If in a function there is no return statement, by pattern python returns a None value."
   ]
  },
  {
   "cell_type": "code",
   "execution_count": null,
   "id": "65635ba5",
   "metadata": {},
   "outputs": [],
   "source": [
    "def fact(n):\n",
    "    '''Return the factorial of the given number.''' # doc string\n",
    "    r = 1\n",
    "    while n > 0:\n",
    "        r = r * n\n",
    "        n = n - 1\n",
    "    return r"
   ]
  },
  {
   "cell_type": "code",
   "execution_count": 2,
   "id": "2544e57a",
   "metadata": {},
   "outputs": [
    {
     "data": {
      "text/plain": [
       "'Return the factorial of the given number.'"
      ]
     },
     "execution_count": 2,
     "metadata": {},
     "output_type": "execute_result"
    }
   ],
   "source": [
    "fact.__doc__"
   ]
  },
  {
   "cell_type": "code",
   "execution_count": 3,
   "id": "8f94c4a8",
   "metadata": {},
   "outputs": [
    {
     "data": {
      "text/plain": [
       "24"
      ]
     },
     "execution_count": 3,
     "metadata": {},
     "output_type": "execute_result"
    }
   ],
   "source": [
    "fact(4)"
   ]
  },
  {
   "cell_type": "code",
   "execution_count": 4,
   "id": "1fb04fde",
   "metadata": {},
   "outputs": [
    {
     "data": {
      "text/plain": [
       "24"
      ]
     },
     "execution_count": 4,
     "metadata": {},
     "output_type": "execute_result"
    }
   ],
   "source": [
    "x = fact(4)\n",
    "x"
   ]
  },
  {
   "cell_type": "markdown",
   "id": "1cd94c7d",
   "metadata": {},
   "source": [
    "#### Function Parameter options"
   ]
  },
  {
   "cell_type": "code",
   "execution_count": 8,
   "id": "835a0a55",
   "metadata": {},
   "outputs": [
    {
     "data": {
      "text/plain": [
       "27"
      ]
     },
     "execution_count": 8,
     "metadata": {},
     "output_type": "execute_result"
    }
   ],
   "source": [
    "# Positional parameters\n",
    "def power(x,y):\n",
    "    r = 1\n",
    "    while y > 0:\n",
    "        r = r * x\n",
    "        y = y - 1\n",
    "    return r\n",
    "\n",
    "power(3,3)"
   ]
  },
  {
   "cell_type": "code",
   "execution_count": 9,
   "id": "e84794e6",
   "metadata": {},
   "outputs": [
    {
     "ename": "TypeError",
     "evalue": "power() missing 1 required positional argument: 'y'",
     "output_type": "error",
     "traceback": [
      "\u001b[31m---------------------------------------------------------------------------\u001b[39m",
      "\u001b[31mTypeError\u001b[39m                                 Traceback (most recent call last)",
      "\u001b[36mCell\u001b[39m\u001b[36m \u001b[39m\u001b[32mIn[9]\u001b[39m\u001b[32m, line 1\u001b[39m\n\u001b[32m----> \u001b[39m\u001b[32m1\u001b[39m \u001b[43mpower\u001b[49m\u001b[43m(\u001b[49m\u001b[32;43m3\u001b[39;49m\u001b[43m)\u001b[49m\n",
      "\u001b[31mTypeError\u001b[39m: power() missing 1 required positional argument: 'y'"
     ]
    }
   ],
   "source": [
    "power(3)"
   ]
  },
  {
   "cell_type": "code",
   "execution_count": 12,
   "id": "c7174929",
   "metadata": {},
   "outputs": [
    {
     "name": "stdout",
     "output_type": "stream",
     "text": [
      "27\n",
      "9\n"
     ]
    }
   ],
   "source": [
    "def power(x,y=2): # setting a default value\n",
    "    r = 1\n",
    "    while y > 0:\n",
    "        r = r * x\n",
    "        y = y - 1\n",
    "    return r\n",
    "print(power(3,3))\n",
    "print(power(3))"
   ]
  },
  {
   "cell_type": "code",
   "execution_count": 13,
   "id": "d843b8a9",
   "metadata": {},
   "outputs": [
    {
     "data": {
      "text/plain": [
       "9"
      ]
     },
     "execution_count": 13,
     "metadata": {},
     "output_type": "execute_result"
    }
   ],
   "source": [
    "## Arguments by parameter name\n",
    "power(y=2,x=3)"
   ]
  },
  {
   "cell_type": "code",
   "execution_count": null,
   "id": "1ee2e669",
   "metadata": {},
   "outputs": [
    {
     "name": "stdout",
     "output_type": "stream",
     "text": [
      "8\n",
      "9\n"
     ]
    }
   ],
   "source": [
    "## Variable numbers of positional arguments\n",
    "def maximum(*numbers): # returns a tuple with the arguments\n",
    "    if len(numbers) == 0:\n",
    "        return None\n",
    "    else:\n",
    "        maxnum = numbers[0]\n",
    "    for n in numbers[1:]:\n",
    "        if n > maxnum:\n",
    "            maxnum = n\n",
    "    return maxnum\n",
    "\n",
    "print(maximum(3,2,8))\n",
    "print(maximum(1,5,9,-2,2))"
   ]
  },
  {
   "cell_type": "code",
   "execution_count": null,
   "id": "67715b36",
   "metadata": {},
   "outputs": [
    {
     "name": "stdout",
     "output_type": "stream",
     "text": [
      "x: 2, y: 1, keys in 'other: ['foo', 'bar']\n",
      "The total of values in 'other' is 7\n"
     ]
    }
   ],
   "source": [
    "## Variable numbers of keywords arguments\n",
    "def example_fun(x,y,**other): # generate a dictionary with other arguments\n",
    "    print(f\"x: {x}, y: {y}, keys in 'other: {list(other.keys())}\")\n",
    "    other_total = 0\n",
    "    for k in other.keys():\n",
    "        other_total = other_total + other[k]\n",
    "    print(f\"The total of values in 'other' is {other_total}\")\n",
    "\n",
    "example_fun(2, y=\"1\", foo=3, bar=4)"
   ]
  },
  {
   "cell_type": "markdown",
   "id": "dd6d5dfb",
   "metadata": {},
   "source": [
    "#### Mutable objects as arguments"
   ]
  },
  {
   "cell_type": "code",
   "execution_count": null,
   "id": "ca88092e",
   "metadata": {},
   "outputs": [
    {
     "name": "stdout",
     "output_type": "stream",
     "text": [
      "5 [1, 2, 3] [4, 5]\n"
     ]
    }
   ],
   "source": [
    "def f(n, list1, list2):\n",
    "    list1.append(3) # the reference to list1 remains the same, so it will be changed globally\n",
    "    list2 = [4,5,6] # change the reference of list to the [4,5,6] list\n",
    "    n = n + 1 # change the reference of n\n",
    "\n",
    "x = 5\n",
    "y = [1, 2]\n",
    "z = [4, 5]\n",
    "f(x, y, z)\n",
    "print(x, y, z)"
   ]
  },
  {
   "cell_type": "code",
   "execution_count": 24,
   "id": "09339abc",
   "metadata": {},
   "outputs": [
    {
     "name": "stdout",
     "output_type": "stream",
     "text": [
      "[1, 5, 7, 9]\n"
     ]
    }
   ],
   "source": [
    "## Mutable objects as default values\n",
    "def odd_numbers(test_list, odds):\n",
    "    for number in test_list:\n",
    "        if number % 2:\n",
    "            odds.append(number)\n",
    "    return odds\n",
    "\n",
    "odds = []\n",
    "odds = odd_numbers([1,5,7,9,10], odds)\n",
    "print(odds)"
   ]
  },
  {
   "cell_type": "code",
   "execution_count": null,
   "id": "6530f633",
   "metadata": {},
   "outputs": [
    {
     "name": "stdout",
     "output_type": "stream",
     "text": [
      "[1, 5, 7, 9]\n",
      "[1, 5, 7, 9, 1, 5, 7, 9]\n"
     ]
    }
   ],
   "source": [
    "## Observe:\n",
    "def odd_numbers(test_list, odds=[]):\n",
    "    for number in test_list:\n",
    "        if number % 2:\n",
    "            odds.append(number)\n",
    "    return odds\n",
    "\n",
    "odds = odd_numbers([1,5,7,9,10])\n",
    "print(odds)\n",
    "odds = odd_numbers([1,5,7,9,10])\n",
    "print(odds)\n",
    "\n",
    "# When a default parameter value is used, Python assigns the object to be used as the default when the function is first compiled, and it does not change for the life of the program. So, if you have a mutable object as the default and mutate, as we did by appending items to our list of odd numbers, every time that default value is used it will be the same object, an that object will reflect all of the times the function has been called with it."
   ]
  },
  {
   "cell_type": "markdown",
   "id": "2a2a1604",
   "metadata": {},
   "source": [
    "#### Local, nonlocal, and global variables"
   ]
  },
  {
   "cell_type": "code",
   "execution_count": null,
   "id": "7c4c7709",
   "metadata": {},
   "outputs": [
    {
     "name": "stdout",
     "output_type": "stream",
     "text": [
      "1\n",
      "two\n"
     ]
    }
   ],
   "source": [
    "def fun():\n",
    "    global a\n",
    "    a = 1 # made global by the statement above\n",
    "    b = 2 # local variable, exists only inside the function\n",
    "\n",
    "a = \"one\"\n",
    "b = \"two\"\n",
    "\n",
    "fun()\n",
    "print(a)\n",
    "print(b)"
   ]
  },
  {
   "cell_type": "code",
   "execution_count": 34,
   "id": "1dd7c48b",
   "metadata": {},
   "outputs": [
    {
     "name": "stdout",
     "output_type": "stream",
     "text": [
      "top level-> g_var: 0 nl_var: 0\n",
      "in test-> g_var: 0 nl_var: 2\n",
      "in inner_test-> g_var: 1 nl_var: 4\n",
      "in test-> g_var: 1 nl_var:4\n",
      "top level-> g_var: 1 nl_var: 0\n"
     ]
    }
   ],
   "source": [
    "g_var = 0\n",
    "nl_var = 0\n",
    "print(\"top level-> g_var: {0} nl_var: {1}\".format(g_var, nl_var))\n",
    "def test():\n",
    "    nl_var = 2\n",
    "    print(\"in test-> g_var: {0} nl_var: {1}\".format(g_var, nl_var))\n",
    "    def inner_test():\n",
    "        global g_var\n",
    "        nonlocal nl_var\n",
    "        g_var = 1\n",
    "        nl_var = 4\n",
    "        print(\"in inner_test-> g_var: {0} nl_var: {1}\".format(g_var, nl_var))\n",
    "    inner_test()\n",
    "    print(\"in test-> g_var: {0} nl_var:{1}\".format(g_var, nl_var))\n",
    "test()\n",
    "print(\"top level-> g_var: {0} nl_var: {1}\".format(g_var, nl_var))"
   ]
  },
  {
   "cell_type": "markdown",
   "id": "6ec89af7",
   "metadata": {},
   "source": [
    "#### Assigning functions to variables"
   ]
  },
  {
   "cell_type": "code",
   "execution_count": 36,
   "id": "6337bbae",
   "metadata": {},
   "outputs": [
    {
     "name": "stdout",
     "output_type": "stream",
     "text": [
      "273.15\n",
      "273.15\n"
     ]
    }
   ],
   "source": [
    "def f_to_kelvin(degrees_f):\n",
    "    return 273.15 + (degrees_f - 32) * 5/9\n",
    "\n",
    "def c_to_kelvin(degrees_c):\n",
    "    return 273.15 + degrees_c\n",
    "\n",
    "abs_temperature = f_to_kelvin\n",
    "print(abs_temperature(32))\n",
    "\n",
    "abs_temperature = c_to_kelvin\n",
    "print(abs_temperature(0))"
   ]
  },
  {
   "cell_type": "code",
   "execution_count": 38,
   "id": "4018e16b",
   "metadata": {},
   "outputs": [
    {
     "name": "stdout",
     "output_type": "stream",
     "text": [
      "273.15\n",
      "273.15\n"
     ]
    }
   ],
   "source": [
    "t = {'FtoK': f_to_kelvin, 'CtoK': c_to_kelvin}\n",
    "print(t['FtoK'](32))\n",
    "print(t['CtoK'](0))"
   ]
  },
  {
   "cell_type": "markdown",
   "id": "943bf38d",
   "metadata": {},
   "source": [
    "#### Lambda expressions"
   ]
  },
  {
   "cell_type": "code",
   "execution_count": 39,
   "id": "a02fd339",
   "metadata": {},
   "outputs": [
    {
     "data": {
      "text/plain": [
       "273.15"
      ]
     },
     "execution_count": 39,
     "metadata": {},
     "output_type": "execute_result"
    }
   ],
   "source": [
    "t2 = {'FtoK': lambda deg_f: 273.15 + (deg_f - 32) * 5/9 ,\n",
    "    'CtoK': lambda deg_c: 273.15 + deg_c}\n",
    "\n",
    "t2['FtoK'](32)"
   ]
  },
  {
   "cell_type": "markdown",
   "id": "2500b823",
   "metadata": {},
   "source": [
    "#### Generator functions"
   ]
  },
  {
   "cell_type": "code",
   "execution_count": 41,
   "id": "63e87131",
   "metadata": {},
   "outputs": [
    {
     "name": "stdout",
     "output_type": "stream",
     "text": [
      "in generator, x = 0\n",
      "Value from generator 0\n",
      "in generator, x = 1\n",
      "Value from generator 1\n",
      "in generator, x = 2\n",
      "Value from generator 2\n",
      "in generator, x = 3\n",
      "Value from generator 3\n",
      "in generator, x = 0\n",
      "in generator, x = 1\n",
      "in generator, x = 2\n",
      "True\n",
      "in generator, x = 0\n",
      "in generator, x = 1\n",
      "in generator, x = 2\n",
      "in generator, x = 3\n",
      "False\n"
     ]
    }
   ],
   "source": [
    "def four():\n",
    "    x = 0\n",
    "    while x < 4:\n",
    "        print(\"in generator, x =\", x)\n",
    "        yield x\n",
    "        x += 1\n",
    "\n",
    "for i in four():\n",
    "    print(f\"Value from generator {i}\")\n",
    "\n",
    "print(2 in four())\n",
    "print(5 in four())"
   ]
  },
  {
   "cell_type": "markdown",
   "id": "820ac068",
   "metadata": {},
   "source": [
    "#### Decorators"
   ]
  },
  {
   "cell_type": "code",
   "execution_count": null,
   "id": "4edd771a",
   "metadata": {},
   "outputs": [
    {
     "name": "stdout",
     "output_type": "stream",
     "text": [
      "in decorate function, decorating myfunction\n",
      "Executing myfunction\n",
      "hello\n",
      "in decorate function, decorating myfunction\n",
      "Executing myfunction\n",
      "hello\n"
     ]
    }
   ],
   "source": [
    "def decorate(func):\n",
    "    print(\"in decorate function, decorating\", func.__name__)\n",
    "    def wrapper_func(*args):\n",
    "        print(\"Executing\", func.__name__)\n",
    "        return func(*args)\n",
    "    return wrapper_func\n",
    "\n",
    "def myfunction(parameter):\n",
    "    print(parameter)\n",
    "\n",
    "myfunction = decorate(myfunction)\n",
    "myfunction(\"hello\")\n",
    "\n",
    "@decorate\n",
    "def myfunction(parameter):\n",
    "    print(parameter)\n",
    "\n",
    "myfunction(\"hello\")"
   ]
  }
 ],
 "metadata": {
  "kernelspec": {
   "display_name": "python-study-notebooks",
   "language": "python",
   "name": "python3"
  },
  "language_info": {
   "codemirror_mode": {
    "name": "ipython",
    "version": 3
   },
   "file_extension": ".py",
   "mimetype": "text/x-python",
   "name": "python",
   "nbconvert_exporter": "python",
   "pygments_lexer": "ipython3",
   "version": "3.13.2"
  }
 },
 "nbformat": 4,
 "nbformat_minor": 5
}
